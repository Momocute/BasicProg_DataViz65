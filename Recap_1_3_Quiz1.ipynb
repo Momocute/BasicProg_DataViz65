{
  "nbformat": 4,
  "nbformat_minor": 0,
  "metadata": {
    "colab": {
      "name": "Recap 1-3 Quiz1.ipynb",
      "provenance": [],
      "include_colab_link": true
    },
    "kernelspec": {
      "name": "python3",
      "display_name": "Python 3"
    },
    "language_info": {
      "name": "python"
    }
  },
  "cells": [
    {
      "cell_type": "markdown",
      "metadata": {
        "id": "view-in-github",
        "colab_type": "text"
      },
      "source": [
        "<a href=\"https://colab.research.google.com/github/Momocute/BasicProg_DataViz65/blob/main/Recap_1_3_Quiz1.ipynb\" target=\"_parent\"><img src=\"https://colab.research.google.com/assets/colab-badge.svg\" alt=\"Open In Colab\"/></a>"
      ]
    },
    {
      "cell_type": "markdown",
      "source": [
        "Quiz 1 \n",
        "\n",
        "คำนวณเวลาเป็นความต่างของเวลาเป็นวินาทีของช่วงเวลาต่อไปนี้โดยใช้คำสั่ง split() ช่วย และ print ออกมาให้สวยงาม\n",
        "\n",
        "* 09:11:50 - 12:30:15\n",
        "* 13:41:07 - 20:00:18\n",
        "* 21:30:15 - 00:00:00\n",
        "* 00:00:00 - 23:59:59\n",
        "\n",
        "\n",
        "\n",
        "\n",
        "\n"
      ],
      "metadata": {
        "id": "FKKg2s03yfKC"
      }
    },
    {
      "cell_type": "code",
      "source": [
        "a1 = '09:11:50'\n",
        "a1_sp = a1.split(':')\n",
        "print(a1_sp)\n",
        "work1 = int(a1_sp[0])*3600+int (a1_sp[1])*60+int (a1_sp[2])\n",
        "a2 = '12:30:15'\n",
        "a2_sp = a2.split(':')\n",
        "print(a2_sp)\n",
        "work2 = int(a2_sp[0])*3600+int (a2_sp[1])*60+int (a2_sp[2])\n",
        "print(f'{a1} - {a2} แปลงเป็นความต่างของเวลาเป็นวินาทีได้ {work2-work1} วินาที')"
      ],
      "metadata": {
        "id": "Tsc44-yHQgh9",
        "outputId": "b8812853-0bd0-4882-92d9-f78612ba1417",
        "colab": {
          "base_uri": "https://localhost:8080/"
        }
      },
      "execution_count": 30,
      "outputs": [
        {
          "output_type": "stream",
          "name": "stdout",
          "text": [
            "['09', '11', '50']\n",
            "['12', '30', '15']\n",
            "09:11:50 - 12:30:15 แปลงเป็นความต่างของเวลาเป็นวินาทีได้ 11905 วินาที\n"
          ]
        }
      ]
    },
    {
      "cell_type": "code",
      "source": [
        "b1 = '13:41:07'\n",
        "b1_sp = b1.split(':')\n",
        "print(b1_sp)\n",
        "work3 = int(b1_sp[0])*3600+int (b1_sp[1])*60+int (b1_sp[2])\n",
        "b2 = '20:00:18'\n",
        "b2_sp = b2.split(':')\n",
        "print(b2_sp)\n",
        "work4 = int(b2_sp[0])*3600+int (b2_sp[1])*60+int (b2_sp[2])\n",
        "print(f'{b1} - {b2} แปลงเป็นความต่างของเวลาเป็นวินาทีได้ {work4-work3} วินาที')"
      ],
      "metadata": {
        "id": "yOUhxnShRE24",
        "outputId": "a40dab46-5e7e-4d15-935b-ab2536136669",
        "colab": {
          "base_uri": "https://localhost:8080/"
        }
      },
      "execution_count": 33,
      "outputs": [
        {
          "output_type": "stream",
          "name": "stdout",
          "text": [
            "['13', '41', '07']\n",
            "['20', '00', '18']\n",
            "13:41:07 - 20:00:18 แปลงเป็นความต่างของเวลาเป็นวินาทีได้ 22751 วินาที\n"
          ]
        }
      ]
    },
    {
      "cell_type": "code",
      "source": [
        "c1 = '21:30:15'\n",
        "c1_sp = c1.split(':')\n",
        "print(c1_sp)\n",
        "work5 = int(c1_sp[0])*3600+int (c1_sp[1])*60+int (c1_sp[2])\n",
        "c2='24:00:00'\n",
        "c2_sp = c2.split(':')\n",
        "print(c2_sp)\n",
        "work6 = int(c2_sp[0])*3600+int (c2_sp[1])*60+int (c2_sp[2])\n",
        "print(f'{c1} - {c2} แปลงเป็นความต่างของเวลาเป็นวินาทีได้ {work6-work5} วินาที')"
      ],
      "metadata": {
        "id": "-UALCi9XRxSz",
        "outputId": "c47a8ff8-8d20-44e7-903c-07a04ac1ee60",
        "colab": {
          "base_uri": "https://localhost:8080/"
        }
      },
      "execution_count": 36,
      "outputs": [
        {
          "output_type": "stream",
          "name": "stdout",
          "text": [
            "['21', '30', '15']\n",
            "['24', '00', '00']\n",
            "21:30:15 - 24:00:00 แปลงเป็นความต่างของเวลาเป็นวินาทีได้ 8985 วินาที\n"
          ]
        }
      ]
    },
    {
      "cell_type": "code",
      "source": [
        ""
      ],
      "metadata": {
        "id": "tLbaiRXNUyTC"
      },
      "execution_count": null,
      "outputs": []
    },
    {
      "cell_type": "code",
      "source": [
        "e1 = '00:00:00'\n",
        "e1_sp = e1.split(':')\n",
        "print(e1_sp)\n",
        "work7 = int(e1_sp[0])*3600+int (e1_sp[1])*60+int (e1_sp[2])\n",
        "e2='23:59:59'\n",
        "e2_sp = e2.split(':')\n",
        "print(e2_sp)\n",
        "work8 = int(e2_sp[0])*3600+int (e2_sp[1])*60+int (e2_sp[2])\n",
        "print(f'{e1} - {e2} แปลงเป็นความต่างของเวลาเป็นวินาทีได้ {work8-work7} วินาที')"
      ],
      "metadata": {
        "id": "vBUGcZN-SQ05",
        "outputId": "ead02830-a09e-4c97-913b-bbacb1052835",
        "colab": {
          "base_uri": "https://localhost:8080/"
        }
      },
      "execution_count": 35,
      "outputs": [
        {
          "output_type": "stream",
          "name": "stdout",
          "text": [
            "['00', '00', '00']\n",
            "['23', '59', '59']\n",
            "00:00:00 - 23:59:59 แปลงเป็นความต่างของเวลาเป็นวินาทีได้ 86399 วินาที\n"
          ]
        }
      ]
    }
  ]
}