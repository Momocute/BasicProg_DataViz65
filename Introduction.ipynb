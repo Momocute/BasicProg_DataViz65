{
  "nbformat": 4,
  "nbformat_minor": 0,
  "metadata": {
    "colab": {
      "name": "Introduction.ipynb",
      "provenance": [],
      "authorship_tag": "ABX9TyN973VBnihmbBnKd2ZSM0IP",
      "include_colab_link": true
    },
    "kernelspec": {
      "name": "python3",
      "display_name": "Python 3"
    },
    "language_info": {
      "name": "python"
    }
  },
  "cells": [
    {
      "cell_type": "markdown",
      "metadata": {
        "id": "view-in-github",
        "colab_type": "text"
      },
      "source": [
        "<a href=\"https://colab.research.google.com/github/Momocute/BasicProg_DataViz65/blob/main/Introduction.ipynb\" target=\"_parent\"><img src=\"https://colab.research.google.com/assets/colab-badge.svg\" alt=\"Open In Colab\"/></a>"
      ]
    },
    {
      "cell_type": "code",
      "source": [
        "\n",
        "ดุสดี เกิดปั้น (6712)"
      ],
      "metadata": {
        "id": "FWpp0vbEGBjC"
      },
      "execution_count": null,
      "outputs": []
    },
    {
      "cell_type": "markdown",
      "source": [
        "# Markdown"
      ],
      "metadata": {
        "id": "vqqKjMh4GKsM"
      }
    },
    {
      "cell_type": "markdown",
      "source": [
        "## heading2"
      ],
      "metadata": {
        "id": "Q6mJjnyyGH1H"
      }
    },
    {
      "cell_type": "code",
      "source": [
        "print('Dusadee')"
      ],
      "metadata": {
        "colab": {
          "base_uri": "https://localhost:8080/"
        },
        "id": "66pelu6SHU3S",
        "outputId": "5272a7a6-0137-4920-e645-a4334408e908"
      },
      "execution_count": 6,
      "outputs": [
        {
          "output_type": "stream",
          "name": "stdout",
          "text": [
            "Dusadee\n"
          ]
        }
      ]
    },
    {
      "cell_type": "code",
      "source": [
        ""
      ],
      "metadata": {
        "id": "7dmeZY6WHy4B"
      },
      "execution_count": null,
      "outputs": []
    }
  ]
}